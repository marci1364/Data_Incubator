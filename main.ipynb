{
  "nbformat": 4,
  "nbformat_minor": 0,
  "metadata": {
    "colab": {
      "name": "main.ipynb",
      "provenance": [],
      "authorship_tag": "ABX9TyMwPPx8sZVjPzV2xNpQB/ti",
      "include_colab_link": true
    },
    "kernelspec": {
      "name": "python3",
      "display_name": "Python 3"
    },
    "language_info": {
      "name": "python"
    }
  },
  "cells": [
    {
      "cell_type": "markdown",
      "metadata": {
        "id": "view-in-github",
        "colab_type": "text"
      },
      "source": [
        "<a href=\"https://colab.research.google.com/github/marci1364/Data_Incubator/blob/main/main.ipynb\" target=\"_parent\"><img src=\"https://colab.research.google.com/assets/colab-badge.svg\" alt=\"Open In Colab\"/></a>"
      ]
    },
    {
      "cell_type": "markdown",
      "metadata": {
        "id": "5JOaFJ3Qi5tr"
      },
      "source": [
        ""
      ]
    },
    {
      "cell_type": "code",
      "metadata": {
        "id": "ifcTblRsiryW"
      },
      "source": [
        "import pandas as pd\n",
        "import os\n",
        "import glob\n",
        "import numpy as np\n",
        "import datetime\n",
        "from datetime import timedelta\n",
        "from scipy import stats\n",
        "import matplotlib.pyplot as plt\n",
        "\n",
        "subject_1 = pd.read_table('data\\subject101.dat', sep=\"\\s+\")\n",
        "subject_2 = pd.read_table('data\\subject102.dat', sep=\"\\s+\")\n",
        "\n",
        "print(subject_1.shape)\n",
        "subject_1 = subject_1.to_numpy()\n",
        "subject_2 = subject_2.to_numpy()\n",
        "_=plt.plot(subject_1[:,0], subject_1[:,2], '*', label='Subject 1', markersize=10)\n",
        "_=plt.plot(subject_2[:,0], subject_2[:,2], 'o', label='Subject 2', markersize=10)\n",
        "_ = plt.legend()\n",
        "plt.show()"
      ],
      "execution_count": null,
      "outputs": []
    },
    {
      "cell_type": "markdown",
      "metadata": {
        "id": "x2EuxEFTi2ax"
      },
      "source": [
        "Import data"
      ]
    },
    {
      "cell_type": "code",
      "metadata": {
        "id": "vwz0MJYGjIT_"
      },
      "source": [
        ""
      ],
      "execution_count": null,
      "outputs": []
    }
  ]
}