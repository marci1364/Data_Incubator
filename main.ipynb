{
  "nbformat": 4,
  "nbformat_minor": 0,
  "metadata": {
    "colab": {
      "name": "main.ipynb",
      "provenance": [],
      "authorship_tag": "ABX9TyOUc4ezSzP7shmWUvD+Svnr",
      "include_colab_link": true
    },
    "kernelspec": {
      "name": "python3",
      "display_name": "Python 3"
    },
    "language_info": {
      "name": "python"
    }
  },
  "cells": [
    {
      "cell_type": "markdown",
      "metadata": {
        "id": "view-in-github",
        "colab_type": "text"
      },
      "source": [
        "<a href=\"https://colab.research.google.com/github/marci1364/Data_Incubator/blob/main/main.ipynb\" target=\"_parent\"><img src=\"https://colab.research.google.com/assets/colab-badge.svg\" alt=\"Open In Colab\"/></a>"
      ]
    },
    {
      "cell_type": "markdown",
      "metadata": {
        "id": "5JOaFJ3Qi5tr"
      },
      "source": [
        ""
      ]
    },
    {
      "cell_type": "code",
      "metadata": {
        "id": "ifcTblRsiryW"
      },
      "source": [
        "import pandas as pd\n",
        "import os\n",
        "import glob\n",
        "import numpy as np\n",
        "import datetime\n",
        "from datetime import timedelta\n",
        "from scipy import stats\n",
        "import matplotlib.pyplot as plt\n",
        "\n",
        "subject_1 = pd.read_table('data\\subject101.dat', sep=\"\\s+\")\n",
        "subject_2 = pd.read_table('data\\subject102.dat', sep=\"\\s+\")\n",
        "\n",
        "print(subject_1.shape)\n",
        "subject_1 = subject_1.to_numpy()\n",
        "subject_2 = subject_2.to_numpy()\n",
        "_=plt.plot(subject_1[:,0], subject_1[:,2], '*', label='Subject 1', markersize=10)\n",
        "_=plt.plot(subject_2[:,0], subject_2[:,2], 'o', label='Subject 2', markersize=10)\n",
        "_ = plt.legend()\n",
        "plt.show()"
      ],
      "execution_count": null,
      "outputs": []
    },
    {
      "cell_type": "markdown",
      "metadata": {
        "id": "x2EuxEFTi2ax"
      },
      "source": [
        "Plot Acceleration Data"
      ]
    },
    {
      "cell_type": "code",
      "metadata": {
        "id": "vwz0MJYGjIT_"
      },
      "source": [
        "acc = np.matrix([subject_1[:,0], subject_1[:,1], subject_1[:,4]]).T\n",
        "\n",
        "s_l = np.argwhere(acc[:,1]==1)\n",
        "s_s = np.argwhere(acc[:,1]==3)\n",
        "s_w = np.argwhere(acc[:,1]==4)\n",
        "s_r = np.argwhere(acc[:,1]==5)\n",
        "s_c = np.argwhere(acc[:,1]==6)\n",
        "s_a = np.argwhere(acc[:,1]==12)\n",
        "\n",
        "\n",
        "x = np.arange(10000)\n",
        "\n",
        "\n",
        "##### Plot X Acceleration Data ######\n",
        "\n",
        "plt.subplot(2, 3, 1)\n",
        "\n",
        "_=plt.plot(x,acc[s_l[:,0], 2][0:10000, 0], label='lying')\n",
        "_ = plt.legend()\n",
        "plt.ylabel('ACC (X)')\n",
        "plt.ylim((-50,50))\n",
        "plt.subplot(2, 3, 2)\n",
        "_=plt.plot(x,acc[s_s[:,0], 2][0:10000, 0],label='standing')\n",
        "_ = plt.legend()\n",
        "\n",
        "plt.ylim((-50,50))\n",
        "\n",
        "plt.subplot(2, 3, 3)\n",
        "_=plt.plot(x,acc[s_w[:,0], 2][0:10000, 0],label='walking')\n",
        "_ = plt.legend()\n",
        "\n",
        "plt.ylim((-50,50))\n",
        "\n",
        "plt.subplot(2, 3, 4)\n",
        "_=plt.plot(x,acc[s_r[:,0], 2][0:10000, 0],label='running')\n",
        "_ = plt.legend()\n",
        "plt.ylabel('ACC (X)')\n",
        "plt.ylim((-50,50))\n",
        "\n",
        "plt.subplot(2, 3, 5)\n",
        "_=plt.plot(x,acc[s_c[:,0], 2][0:10000, 0],label='cycling')\n",
        "_ = plt.legend()\n",
        "\n",
        "plt.ylim((-50,50))\n",
        "\n",
        "plt.subplot(2, 3, 6)\n",
        "_=plt.plot(x,acc[s_a[:,0], 2][0:10000, 0],label='ascending stairs')\n",
        "_ = plt.legend()\n",
        "\n",
        "plt.ylim((-50,50))\n",
        "plt.show()"
      ],
      "execution_count": null,
      "outputs": []
    }
  ]
}